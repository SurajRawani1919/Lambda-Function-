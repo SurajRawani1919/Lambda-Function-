{
  "nbformat": 4,
  "nbformat_minor": 0,
  "metadata": {
    "colab": {
      "provenance": []
    },
    "kernelspec": {
      "name": "python3",
      "display_name": "Python 3"
    },
    "language_info": {
      "name": "python"
    }
  },
  "cells": [
    {
      "cell_type": "code",
      "execution_count": null,
      "metadata": {
        "id": "dPK2xig2lI3m"
      },
      "outputs": [],
      "source": [
        "#first class functions '\n",
        "# first class function => variable,instance ,datatype\n"
      ]
    },
    {
      "cell_type": "code",
      "source": [
        "def func():\n",
        "  print(\"hey\")\n",
        "\n",
        "x=func()\n",
        "func()"
      ],
      "metadata": {
        "colab": {
          "base_uri": "https://localhost:8080/"
        },
        "id": "KpdachBOns5Q",
        "outputId": "06075d8c-e9f6-4e15-8904-6208878211ab"
      },
      "execution_count": null,
      "outputs": [
        {
          "output_type": "stream",
          "name": "stdout",
          "text": [
            "hey\n",
            "hey\n"
          ]
        }
      ]
    },
    {
      "cell_type": "code",
      "source": [
        "# high order function\n",
        "# if we can pass a function as a argument to another function\n",
        "# all high order function are first class function"
      ],
      "metadata": {
        "id": "cknP6s_Jn_aF"
      },
      "execution_count": null,
      "outputs": []
    },
    {
      "cell_type": "code",
      "source": [
        "def func(a,b):\n",
        "  print(a+b)\n",
        "\n",
        "\n",
        "def addNumber(x,y):\n",
        "\n",
        "  print(x,y(10,20))\n",
        "\n",
        "\n",
        "addNumber(40,func)"
      ],
      "metadata": {
        "colab": {
          "base_uri": "https://localhost:8080/"
        },
        "id": "l_gMlWkTonmn",
        "outputId": "0128d89d-c37a-46ff-b2b4-98ce4876fb45"
      },
      "execution_count": null,
      "outputs": [
        {
          "output_type": "stream",
          "name": "stdout",
          "text": [
            "30\n",
            "40 None\n"
          ]
        }
      ]
    },
    {
      "cell_type": "code",
      "source": [
        "def func(a,b):\n",
        "  return a+b\n",
        "\n",
        "\n",
        "def addNumber(x,y):\n",
        "\n",
        "  print(x,y(10,20))\n",
        "\n",
        "\n",
        "addNumber(40,func)"
      ],
      "metadata": {
        "colab": {
          "base_uri": "https://localhost:8080/"
        },
        "id": "GNiqdKAPpLLF",
        "outputId": "4fbc3e41-b32d-46ec-d130-dc1157ecc654"
      },
      "execution_count": null,
      "outputs": [
        {
          "output_type": "stream",
          "name": "stdout",
          "text": [
            "40 30\n"
          ]
        }
      ]
    },
    {
      "cell_type": "code",
      "source": [],
      "metadata": {
        "id": "Ay_Mjfq3tjeH"
      },
      "execution_count": null,
      "outputs": []
    },
    {
      "cell_type": "code",
      "source": [
        "def square(x):\n",
        "  return (x**2)\n",
        "\n",
        "def cube(n,fnt):\n",
        "  print(n*fnt(n))\n",
        "\n",
        "#square(10)\n",
        "#y=square(10)\n",
        "cube(6,square)"
      ],
      "metadata": {
        "colab": {
          "base_uri": "https://localhost:8080/"
        },
        "id": "z9RBHBIEprEZ",
        "outputId": "ff1a77e5-b486-4c4b-b407-cf8e6bc3630f"
      },
      "execution_count": null,
      "outputs": [
        {
          "output_type": "stream",
          "name": "stdout",
          "text": [
            "216\n"
          ]
        }
      ]
    },
    {
      "cell_type": "code",
      "source": [
        "# lambda function\n",
        "# lambda => annoymous function\n",
        "# same as normal\n",
        "\n",
        "def func(x):\n",
        "  return x+y\n",
        "\n",
        "print(func)\n"
      ],
      "metadata": {
        "colab": {
          "base_uri": "https://localhost:8080/"
        },
        "id": "OVeSUgAnsMe_",
        "outputId": "ddfef72b-1f50-4940-e0f0-500f1014a5a6"
      },
      "execution_count": null,
      "outputs": [
        {
          "output_type": "stream",
          "name": "stdout",
          "text": [
            "<function func at 0x78a8c03a4670>\n"
          ]
        }
      ]
    },
    {
      "cell_type": "code",
      "source": [
        "func=lambda x,y:x+y\n",
        "func(1,11)"
      ],
      "metadata": {
        "colab": {
          "base_uri": "https://localhost:8080/"
        },
        "id": "uOCxf6vot8fA",
        "outputId": "97bc08db-50a7-47b3-967a-10fecf8b8631"
      },
      "execution_count": null,
      "outputs": [
        {
          "output_type": "execute_result",
          "data": {
            "text/plain": [
              "12"
            ]
          },
          "metadata": {},
          "execution_count": 26
        }
      ]
    },
    {
      "cell_type": "code",
      "source": [
        "def cube(x):\n",
        "  out=lambda x:x**2\n",
        "  print(\"Lambda value\",x*out(x))\n",
        "\n",
        "cube(4)"
      ],
      "metadata": {
        "colab": {
          "base_uri": "https://localhost:8080/"
        },
        "id": "bZWHSL1iuQdq",
        "outputId": "9b35b073-c309-4e31-d982-0bff60cbfda6"
      },
      "execution_count": null,
      "outputs": [
        {
          "output_type": "stream",
          "name": "stdout",
          "text": [
            "Lambda value 64\n"
          ]
        }
      ]
    },
    {
      "cell_type": "code",
      "source": [
        "def two_sum(nums, target):\n",
        "    for i in range(len(nums)):\n",
        "        for j in range(i + 1, len(nums)):\n",
        "            if nums[i] + nums[j] == target:\n",
        "                return [i, j]\n",
        "    return None\n",
        "\n",
        "nums = [2, 7, 11, 15]\n",
        "target = 9\n",
        "print(two_sum(nums, target))"
      ],
      "metadata": {
        "colab": {
          "base_uri": "https://localhost:8080/"
        },
        "id": "Fpw3FfFevLGj",
        "outputId": "e01310ab-9496-4c83-877f-e753f7a54639"
      },
      "execution_count": null,
      "outputs": [
        {
          "output_type": "stream",
          "name": "stdout",
          "text": [
            "[0, 1]\n"
          ]
        }
      ]
    },
    {
      "cell_type": "code",
      "source": [
        "mydict={}\n",
        "for x in enumerate([10,20,30]):\n",
        "  value,key=x\n",
        "  print(key)\n",
        "\n",
        "  if key not in mydict:\n",
        "    mydict[key]=value\n",
        "print(mydict)\n"
      ],
      "metadata": {
        "colab": {
          "base_uri": "https://localhost:8080/"
        },
        "id": "1TAOINtZ1Ztv",
        "outputId": "1562265b-2431-4287-c939-fbb2796a3130"
      },
      "execution_count": null,
      "outputs": [
        {
          "output_type": "stream",
          "name": "stdout",
          "text": [
            "10\n",
            "20\n",
            "30\n",
            "{10: 0, 20: 1, 30: 2}\n"
          ]
        }
      ]
    },
    {
      "cell_type": "code",
      "source": [
        "mydict={}\n",
        "k=50\n",
        "for x in enumerate([10,20,30]):\n",
        "  value,key=x\n",
        "  print(key)\n",
        "\n",
        "  if key not in mydict:\n",
        "    mydict[key]=value\n",
        "print(mydict)\n",
        "\n",
        "for value,key in enumerate([10,20,30]):\n",
        "  if k-key in mydict and mydict[k-key]!=value:\n",
        "    print(value,mydict[k-key])\n"
      ],
      "metadata": {
        "colab": {
          "base_uri": "https://localhost:8080/"
        },
        "id": "T9CIEA0d31AF",
        "outputId": "cbb0298b-1ee9-40a7-dc1d-844744495c58"
      },
      "execution_count": null,
      "outputs": [
        {
          "output_type": "stream",
          "name": "stdout",
          "text": [
            "10\n",
            "20\n",
            "30\n",
            "{10: 0, 20: 1, 30: 2}\n",
            "1 2\n",
            "2 1\n"
          ]
        }
      ]
    },
    {
      "cell_type": "code",
      "source": [],
      "metadata": {
        "id": "gEb7JeRgHjVb"
      },
      "execution_count": null,
      "outputs": []
    },
    {
      "cell_type": "code",
      "source": [
        "# Best Time to Buy and Sell Stock\n",
        "def maxProfit(prices):\n",
        "    max_profit = 0\n",
        "    for i in range(len(prices)):\n",
        "        for j in range(i + 1, len(prices)):\n",
        "            if prices[j] - prices[i] > max_profit:\n",
        "                max_profit = prices[j] - prices[i]\n",
        "    return max_profit\n",
        "\n",
        "print(maxProfit(prices[7,1,5,3,6,4]))\n"
      ],
      "metadata": {
        "colab": {
          "base_uri": "https://localhost:8080/",
          "height": 180
        },
        "id": "YyMaK_wO5ABd",
        "outputId": "3740dba1-54f9-458c-b6ca-609c4cb8baee"
      },
      "execution_count": null,
      "outputs": [
        {
          "output_type": "error",
          "ename": "NameError",
          "evalue": "name 'prices' is not defined",
          "traceback": [
            "\u001b[0;31m---------------------------------------------------------------------------\u001b[0m",
            "\u001b[0;31mNameError\u001b[0m                                 Traceback (most recent call last)",
            "\u001b[0;32m<ipython-input-1-7ddc605a8686>\u001b[0m in \u001b[0;36m<cell line: 9>\u001b[0;34m()\u001b[0m\n\u001b[1;32m      7\u001b[0m     \u001b[0;32mreturn\u001b[0m \u001b[0mmax_profit\u001b[0m\u001b[0;34m\u001b[0m\u001b[0;34m\u001b[0m\u001b[0m\n\u001b[1;32m      8\u001b[0m \u001b[0;34m\u001b[0m\u001b[0m\n\u001b[0;32m----> 9\u001b[0;31m \u001b[0mprint\u001b[0m\u001b[0;34m(\u001b[0m\u001b[0mmaxProfit\u001b[0m\u001b[0;34m(\u001b[0m\u001b[0mprices\u001b[0m\u001b[0;34m[\u001b[0m\u001b[0;36m7\u001b[0m\u001b[0;34m,\u001b[0m\u001b[0;36m1\u001b[0m\u001b[0;34m,\u001b[0m\u001b[0;36m5\u001b[0m\u001b[0;34m,\u001b[0m\u001b[0;36m3\u001b[0m\u001b[0;34m,\u001b[0m\u001b[0;36m6\u001b[0m\u001b[0;34m,\u001b[0m\u001b[0;36m4\u001b[0m\u001b[0;34m]\u001b[0m\u001b[0;34m)\u001b[0m\u001b[0;34m)\u001b[0m\u001b[0;34m\u001b[0m\u001b[0;34m\u001b[0m\u001b[0m\n\u001b[0m",
            "\u001b[0;31mNameError\u001b[0m: name 'prices' is not defined"
          ]
        }
      ]
    },
    {
      "cell_type": "code",
      "source": [
        "buy=0\n",
        "sell=0\n",
        "maxi=0\n",
        "mylist=[7,1,5,3,6,4]\n",
        "no_days=len(mylist)\n",
        "\n",
        "while(sell<no_days):\n",
        "  if ( mylist[sell]>mylist[buy]):\n",
        "    profit_margin=mylist[sell]-mylist[buy]\n",
        "    maxi=max(maxi,profit_margin)\n",
        "  else:\n",
        "    buy=sell\n",
        "  sell+=1\n",
        "\n",
        "print(maxi)\n"
      ],
      "metadata": {
        "id": "NzBzYK_zCK6C",
        "colab": {
          "base_uri": "https://localhost:8080/",
          "height": 216
        },
        "outputId": "116eae7f-c955-4b62-8e61-ff4e9583f7da"
      },
      "execution_count": null,
      "outputs": [
        {
          "output_type": "error",
          "ename": "TypeError",
          "evalue": "'int' object is not callable",
          "traceback": [
            "\u001b[0;31m---------------------------------------------------------------------------\u001b[0m",
            "\u001b[0;31mTypeError\u001b[0m                                 Traceback (most recent call last)",
            "\u001b[0;32m<ipython-input-56-b15fca125067>\u001b[0m in \u001b[0;36m<cell line: 7>\u001b[0;34m()\u001b[0m\n\u001b[1;32m      8\u001b[0m   \u001b[0;32mif\u001b[0m \u001b[0;34m(\u001b[0m \u001b[0mmylist\u001b[0m\u001b[0;34m[\u001b[0m\u001b[0msell\u001b[0m\u001b[0;34m]\u001b[0m\u001b[0;34m>\u001b[0m\u001b[0mmylist\u001b[0m\u001b[0;34m[\u001b[0m\u001b[0mbuy\u001b[0m\u001b[0;34m]\u001b[0m\u001b[0;34m)\u001b[0m\u001b[0;34m:\u001b[0m\u001b[0;34m\u001b[0m\u001b[0;34m\u001b[0m\u001b[0m\n\u001b[1;32m      9\u001b[0m     \u001b[0mprofit_margin\u001b[0m\u001b[0;34m=\u001b[0m\u001b[0mmylist\u001b[0m\u001b[0;34m[\u001b[0m\u001b[0msell\u001b[0m\u001b[0;34m]\u001b[0m\u001b[0;34m-\u001b[0m\u001b[0mmylist\u001b[0m\u001b[0;34m[\u001b[0m\u001b[0mbuy\u001b[0m\u001b[0;34m]\u001b[0m\u001b[0;34m\u001b[0m\u001b[0;34m\u001b[0m\u001b[0m\n\u001b[0;32m---> 10\u001b[0;31m     \u001b[0mmaxi\u001b[0m\u001b[0;34m=\u001b[0m\u001b[0mmax\u001b[0m\u001b[0;34m(\u001b[0m\u001b[0mmaxi\u001b[0m\u001b[0;34m,\u001b[0m\u001b[0mprofit_margin\u001b[0m\u001b[0;34m)\u001b[0m\u001b[0;34m\u001b[0m\u001b[0;34m\u001b[0m\u001b[0m\n\u001b[0m\u001b[1;32m     11\u001b[0m   \u001b[0;32melse\u001b[0m\u001b[0;34m:\u001b[0m\u001b[0;34m\u001b[0m\u001b[0;34m\u001b[0m\u001b[0m\n\u001b[1;32m     12\u001b[0m     \u001b[0mbuy\u001b[0m\u001b[0;34m=\u001b[0m\u001b[0msell\u001b[0m\u001b[0;34m\u001b[0m\u001b[0;34m\u001b[0m\u001b[0m\n",
            "\u001b[0;31mTypeError\u001b[0m: 'int' object is not callable"
          ]
        }
      ]
    },
    {
      "cell_type": "code",
      "source": [
        "buy = 0\n",
        "sell = 1\n",
        "maxi = 0\n",
        "mylist = [7, 1, 5, 3, 6, 4]\n",
        "no_days = len(mylist)\n",
        "\n",
        "while sell < no_days:\n",
        "    if mylist[sell] > mylist[buy]:\n",
        "        profit_margin = mylist[sell] - mylist[buy]\n",
        "        maxi = max(maxi, profit_margin)\n",
        "    else:\n",
        "        buy = sell\n",
        "    sell += 1\n",
        "\n",
        "print(maxi)\n"
      ],
      "metadata": {
        "id": "3PdxR8CSH3GK",
        "colab": {
          "base_uri": "https://localhost:8080/",
          "height": 216
        },
        "outputId": "3c13602b-468c-4fd7-f57d-a90c698b2745"
      },
      "execution_count": null,
      "outputs": [
        {
          "output_type": "error",
          "ename": "TypeError",
          "evalue": "'int' object is not callable",
          "traceback": [
            "\u001b[0;31m---------------------------------------------------------------------------\u001b[0m",
            "\u001b[0;31mTypeError\u001b[0m                                 Traceback (most recent call last)",
            "\u001b[0;32m<ipython-input-57-13696ec1040e>\u001b[0m in \u001b[0;36m<cell line: 7>\u001b[0;34m()\u001b[0m\n\u001b[1;32m      8\u001b[0m     \u001b[0;32mif\u001b[0m \u001b[0mmylist\u001b[0m\u001b[0;34m[\u001b[0m\u001b[0msell\u001b[0m\u001b[0;34m]\u001b[0m \u001b[0;34m>\u001b[0m \u001b[0mmylist\u001b[0m\u001b[0;34m[\u001b[0m\u001b[0mbuy\u001b[0m\u001b[0;34m]\u001b[0m\u001b[0;34m:\u001b[0m\u001b[0;34m\u001b[0m\u001b[0;34m\u001b[0m\u001b[0m\n\u001b[1;32m      9\u001b[0m         \u001b[0mprofit_margin\u001b[0m \u001b[0;34m=\u001b[0m \u001b[0mmylist\u001b[0m\u001b[0;34m[\u001b[0m\u001b[0msell\u001b[0m\u001b[0;34m]\u001b[0m \u001b[0;34m-\u001b[0m \u001b[0mmylist\u001b[0m\u001b[0;34m[\u001b[0m\u001b[0mbuy\u001b[0m\u001b[0;34m]\u001b[0m\u001b[0;34m\u001b[0m\u001b[0;34m\u001b[0m\u001b[0m\n\u001b[0;32m---> 10\u001b[0;31m         \u001b[0mmaxi\u001b[0m \u001b[0;34m=\u001b[0m \u001b[0mmax\u001b[0m\u001b[0;34m(\u001b[0m\u001b[0mmaxi\u001b[0m\u001b[0;34m,\u001b[0m \u001b[0mprofit_margin\u001b[0m\u001b[0;34m)\u001b[0m\u001b[0;34m\u001b[0m\u001b[0;34m\u001b[0m\u001b[0m\n\u001b[0m\u001b[1;32m     11\u001b[0m     \u001b[0;32melse\u001b[0m\u001b[0;34m:\u001b[0m\u001b[0;34m\u001b[0m\u001b[0;34m\u001b[0m\u001b[0m\n\u001b[1;32m     12\u001b[0m         \u001b[0mbuy\u001b[0m \u001b[0;34m=\u001b[0m \u001b[0msell\u001b[0m\u001b[0;34m\u001b[0m\u001b[0;34m\u001b[0m\u001b[0m\n",
            "\u001b[0;31mTypeError\u001b[0m: 'int' object is not callable"
          ]
        }
      ]
    },
    {
      "cell_type": "code",
      "source": [],
      "metadata": {
        "id": "ho_bIO5eJam3"
      },
      "execution_count": null,
      "outputs": []
    }
  ]
}